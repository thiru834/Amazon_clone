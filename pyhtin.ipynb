{
  "nbformat": 4,
  "nbformat_minor": 0,
  "metadata": {
    "colab": {
      "provenance": [],
      "authorship_tag": "ABX9TyMkMBZRKMpifi0VWLvlpuoA",
      "include_colab_link": true
    },
    "kernelspec": {
      "name": "python3",
      "display_name": "Python 3"
    },
    "language_info": {
      "name": "python"
    }
  },
  "cells": [
    {
      "cell_type": "markdown",
      "metadata": {
        "id": "view-in-github",
        "colab_type": "text"
      },
      "source": [
        "<a href=\"https://colab.research.google.com/github/thiru834/Amazon_clone/blob/main/pyhtin.ipynb\" target=\"_parent\"><img src=\"https://colab.research.google.com/assets/colab-badge.svg\" alt=\"Open In Colab\"/></a>"
      ]
    },
    {
      "cell_type": "markdown",
      "source": [
        "COWS AND BULLS GAME"
      ],
      "metadata": {
        "id": "HU921xQtS4El"
      }
    },
    {
      "cell_type": "code",
      "source": [
        "from random import randint\n",
        "def random():\n",
        "  while True:\n",
        "    n=str(randint(100,999))\n",
        "    if(not(n[0]==n[1] or n[1]==n[2] or n[2]==n[0])):\n",
        "      return n\n",
        "\n",
        "name =input(\"Welcome to the cows and bulls game\\n please enter your name:\")\n",
        "print(\"hi\",name)\n",
        "chances=5\n",
        "cows =0\n",
        "bulls=0\n",
        "num=str(random())\n",
        "while chances>0:\n",
        "  print(\"guess the number please\")\n",
        "  n = str(input(\"enter a number:\"))\n",
        "  if(num==n):\n",
        "    print(\"Congratulations you have guessed it right\")\n",
        "    break\n",
        "  else:\n",
        "    for i in range(0,3):\n",
        "      if num[i]==n[i] :\n",
        "        bulls=bulls+1\n",
        "      elif n[i] in num :\n",
        "        cows=cows+1\n",
        "    print(\"common you have \",bulls,\" bulls and \",cows,\" cows\")\n",
        "    bulls=0\n",
        "    cows=0\n",
        "    chances=chances-1\n",
        "\n",
        "print(\"the right number is \",num)\n",
        "\n",
        "\n",
        "\n",
        "\n"
      ],
      "metadata": {
        "id": "Afby7ZPSS4hh",
        "colab": {
          "base_uri": "https://localhost:8080/"
        },
        "outputId": "c8a21a83-66b4-4080-dec9-256429cd7f45"
      },
      "execution_count": null,
      "outputs": [
        {
          "output_type": "stream",
          "name": "stdout",
          "text": [
            "Welcome to the cows and bulls game\n",
            " please enter your name:Tirupathaiah\n",
            "hi Tirupathaiah\n",
            "guess the number please\n",
            "enter a number:421\n",
            "common you have  0  bulls and  0  cows\n",
            "guess the number please\n",
            "enter a number:378\n",
            "common you have  0  bulls and  1  cows\n",
            "guess the number please\n",
            "enter a number:351\n",
            "common you have  0  bulls and  1  cows\n",
            "guess the number please\n",
            "enter a number:234\n",
            "common you have  1  bulls and  0  cows\n",
            "guess the number please\n",
            "enter a number:732\n",
            "common you have  1  bulls and  0  cows\n",
            "the right number is  630\n"
          ]
        }
      ]
    }
  ]
}